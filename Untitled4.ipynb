{
 "cells": [
  {
   "cell_type": "code",
   "execution_count": 3,
   "metadata": {},
   "outputs": [
    {
     "name": "stdout",
     "output_type": "stream",
     "text": [
      "0\n",
      "b'We are '\n",
      "7\n",
      "b'Learning Python File handling'\n",
      "36\n",
      "b'arnin'\n",
      "b'thon '\n",
      "b'dling'\n"
     ]
    },
    {
     "data": {
      "text/plain": [
       "<function BufferedReader.close>"
      ]
     },
     "execution_count": 3,
     "metadata": {},
     "output_type": "execute_result"
    }
   ],
   "source": [
    "f=open(r\"C:\\Users\\student1\\Documents\\siddhi.txt\",'w')\n",
    "line='We are Learning Python File handling'\n",
    "f.write(line)\n",
    "f.close()\n",
    "f=open(r\"C:\\Users\\student1\\Documents\\siddhi.txt\",'rb')\n",
    "print(f.tell())\n",
    "print(f.read(7))\n",
    "print(f.tell())\n",
    "print(f.read())\n",
    "print(f.tell())\n",
    "f.seek(9,0)\n",
    "print(f.read(5))\n",
    "f.seek(4,1)\n",
    "print(f.read(5))\n",
    "f.seek(-5,2)\n",
    "print(f.read(5))\n",
    "f.close\n"
   ]
  },
  {
   "cell_type": "code",
   "execution_count": 8,
   "metadata": {},
   "outputs": [
    {
     "name": "stdout",
     "output_type": "stream",
     "text": [
      "Enter the roll no 27\n",
      "Enter the name Siddhi\n",
      "Enter the age 19\n",
      "Enter the roll no 52\n",
      "Enter the name Rubi\n",
      "Enter the age 19\n"
     ]
    }
   ],
   "source": [
    "import pickle\n",
    "f=open(r\"C:\\Users\\student1\\Documents\\siddhi.txt\",\"wb\")\n",
    "for i in range(2):\n",
    "    rollno=int(input(\"Enter the roll no\"))\n",
    "    name=input(\"Enter the name\")\n",
    "    age=int(input(\"Enter the age\"))\n",
    "    pickle.dump(rollno,f)\n",
    "    pickle.dump(name,f)\n",
    "    pickle.dump(age,f)\n",
    "    f.close\n",
    "    "
   ]
  },
  {
   "cell_type": "code",
   "execution_count": 9,
   "metadata": {},
   "outputs": [
    {
     "ename": "SyntaxError",
     "evalue": "invalid syntax (<ipython-input-9-67c1a54fb420>, line 4)",
     "output_type": "error",
     "traceback": [
      "\u001b[1;36m  File \u001b[1;32m\"<ipython-input-9-67c1a54fb420>\"\u001b[1;36m, line \u001b[1;32m4\u001b[0m\n\u001b[1;33m    roll no=int(input(\"Enter the roll no\"))\u001b[0m\n\u001b[1;37m          ^\u001b[0m\n\u001b[1;31mSyntaxError\u001b[0m\u001b[1;31m:\u001b[0m invalid syntax\n"
     ]
    }
   ],
   "source": [
    "import pickle\n",
    "f=open(r\"C:\\Users\\student1\\Documents\\siddhi.txt\",\"wb\")\n",
    "for i in range(2):\n",
    "    roll no=int(input(\"Enter the roll no\"))\n",
    "    names=input(\"Enter the name\")\n",
    "    age=int(input(\"Enter the age\"))\n",
    "    s=[rollno,name,age]\n",
    "    pickle.dump(s,f)\n",
    "    f.close()\n",
    "    f1=open(r\"C:\\Users\\student1\\Documents\\siddhi.txt\",\"rb\")\n",
    "    try:\n",
    "        while True:\n",
    "            e=pickle.load(f1)\n",
    "            print(e)\n",
    "            except EOFError:\n",
    "                print(\"reached the EOF\")\n",
    "                "
   ]
  },
  {
   "cell_type": "code",
   "execution_count": null,
   "metadata": {},
   "outputs": [],
   "source": []
  }
 ],
 "metadata": {
  "kernelspec": {
   "display_name": "Python 3",
   "language": "python",
   "name": "python3"
  },
  "language_info": {
   "codemirror_mode": {
    "name": "ipython",
    "version": 3
   },
   "file_extension": ".py",
   "mimetype": "text/x-python",
   "name": "python",
   "nbconvert_exporter": "python",
   "pygments_lexer": "ipython3",
   "version": "3.6.5"
  }
 },
 "nbformat": 4,
 "nbformat_minor": 2
}

{
 "cells": [
  {
   "cell_type": "code",
   "execution_count": 21,
   "metadata": {},
   "outputs": [
    {
     "name": "stdout",
     "output_type": "stream",
     "text": [
      "[0.5488135  0.71518937 0.60276338 0.54488318 0.4236548 ]\n"
     ]
    }
   ],
   "source": [
    "import numpy as np\n",
    "from sklearn.linear_model import LinearRegression\n",
    "np.random.seed(0)\n",
    "w = np.random.random(5)\n",
    "print(w)"
   ]
  },
  {
   "cell_type": "code",
   "execution_count": 22,
   "metadata": {},
   "outputs": [
    {
     "name": "stdout",
     "output_type": "stream",
     "text": [
      "[0.6488135  0.71518937 0.60276338 0.54488318 0.4236548 ]\n",
      "[0.6488135  1.11518937 0.60276338 0.54488318 0.4236548 ]\n",
      "[0.6488135  1.11518937 1.20276338 0.54488318 0.4236548 ]\n",
      "[0.6488135  1.11518937 1.20276338 1.24488318 0.4236548 ]\n",
      "[0.6488135  1.11518937 1.20276338 1.24488318 0.3236548 ]\n",
      "2.071667870748624\n",
      "converged in 1 iteration\n"
     ]
    }
   ],
   "source": [
    "import numpy as np\n",
    "x = [0.1, 0.4, 0.6, 0.7, -0.1]\n",
    "output_lbl =1\n",
    "counter =0\n",
    "total =0\n",
    "while total <=1:\n",
    "    for i in range (len(w)):\n",
    "        w[i] = w[i] + x[i]\n",
    "        print(w)\n",
    "        \n",
    "    counter = counter + 1\n",
    "    total = np.dot(w,x)\n",
    "    print(total)\n",
    "    \n",
    "print(\"converged in\", counter, \"iteration\")"
   ]
  },
  {
   "cell_type": "code",
   "execution_count": 23,
   "metadata": {},
   "outputs": [
    {
     "name": "stdout",
     "output_type": "stream",
     "text": [
      "[0.5488135  0.71518937 0.60276338 0.54488318 0.4236548 ]\n"
     ]
    }
   ],
   "source": [
    "import numpy as np\n",
    "from sklearn.linear_model import LinearRegression\n",
    "np.random.seed(0)\n",
    "w = np.random.random(5)\n",
    "print(w)"
   ]
  },
  {
   "cell_type": "code",
   "execution_count": 24,
   "metadata": {},
   "outputs": [
    {
     "name": "stdout",
     "output_type": "stream",
     "text": [
      "[0.6488135  0.71518937 0.60276338 0.54488318 0.4236548 ]\n",
      "[0.6488135  1.11518937 0.60276338 0.54488318 0.4236548 ]\n",
      "[0.6488135  1.11518937 1.20276338 0.54488318 0.4236548 ]\n",
      "[0.6488135  1.11518937 1.20276338 1.24488318 0.4236548 ]\n",
      "[0.6488135  1.11518937 1.20276338 1.24488318 0.3236548 ]\n",
      "2.071667870748624\n",
      "converged in 1 iteration\n"
     ]
    }
   ],
   "source": [
    "import numpy as np\n",
    "x = [0.1, 0.4, 0.6, 0.7, -0.1]\n",
    "output_lbl =0\n",
    "counter =0\n",
    "total =0\n",
    "while total <=1:\n",
    "    for i in range (len(w)):\n",
    "        w[i] = w[i] + x[i]\n",
    "        print(w)\n",
    "        \n",
    "    counter = counter + 1\n",
    "    total = np.dot(w,x)\n",
    "    print(total)\n",
    "    \n",
    "print(\"converged in\", counter, \"iteration\")"
   ]
  },
  {
   "cell_type": "code",
   "execution_count": 29,
   "metadata": {},
   "outputs": [
    {
     "name": "stdout",
     "output_type": "stream",
     "text": [
      "[ 97.8488135  389.51518937 583.80276338 680.94488318 -96.7763452 ]\n",
      "[ 97.8488135  389.91518937 583.80276338 680.94488318 -96.7763452 ]\n",
      "[ 97.8488135  389.91518937 584.40276338 680.94488318 -96.7763452 ]\n",
      "[ 97.8488135  389.91518937 584.40276338 681.64488318 -96.7763452 ]\n",
      "[ 97.8488135  389.91518937 584.40276338 681.64488318 -96.8763452 ]\n",
      "1003.2316678707563\n",
      "converged in 1 iteration\n"
     ]
    }
   ],
   "source": [
    "import numpy as np\n",
    "x = [0.1, 0.4, 0.6, 0.7, -0.1]\n",
    "output_lbl =0\n",
    "counter =0\n",
    "total =0\n",
    "eta = 0.001\n",
    "while total <=1:\n",
    "    total = eta * np.dot(w,x)\n",
    "    for i in range (len(w)):\n",
    "        w[i] = w[i] + x[i]\n",
    "        print(w)\n",
    "        \n",
    "    counter = counter + 1\n",
    "    total = np.dot(w,x)\n",
    "    \n",
    "    print(total)\n",
    "    \n",
    "print(\"converged in\", counter, \"iteration\")"
   ]
  },
  {
   "cell_type": "code",
   "execution_count": null,
   "metadata": {},
   "outputs": [],
   "source": []
  }
 ],
 "metadata": {
  "kernelspec": {
   "display_name": "Python 3",
   "language": "python",
   "name": "python3"
  },
  "language_info": {
   "codemirror_mode": {
    "name": "ipython",
    "version": 3
   },
   "file_extension": ".py",
   "mimetype": "text/x-python",
   "name": "python",
   "nbconvert_exporter": "python",
   "pygments_lexer": "ipython3",
   "version": "3.6.5"
  }
 },
 "nbformat": 4,
 "nbformat_minor": 2
}
